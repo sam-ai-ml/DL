{
 "cells": [
  {
   "cell_type": "code",
   "execution_count": 15,
   "id": "7280f4e2",
   "metadata": {},
   "outputs": [],
   "source": [
    "import tensorflow as tf\n",
    "from keras.preprocessing import image\n",
    "from tensorflow.keras.preprocessing.image import ImageDataGenerator"
   ]
  },
  {
   "cell_type": "code",
   "execution_count": 16,
   "id": "e0bb9181",
   "metadata": {},
   "outputs": [],
   "source": [
    "img = image.load_img('./vrajesh/img.png',target_size=(200,200))"
   ]
  },
  {
   "cell_type": "code",
   "execution_count": 17,
   "id": "2dfd0ec2",
   "metadata": {},
   "outputs": [],
   "source": [
    "datagen = ImageDataGenerator(\n",
    "    rotation_range = 30,\n",
    "    shear_range=0.2,\n",
    "    zoom_range = 0.2,\n",
    "    horizontal_flip=True,\n",
    "    width_shift_range=0.2,\n",
    "    height_shift_range=0.2,\n",
    ")"
   ]
  },
  {
   "cell_type": "code",
   "execution_count": 18,
   "id": "a1d7354b",
   "metadata": {},
   "outputs": [],
   "source": [
    "img=image.img_to_array(img)"
   ]
  },
  {
   "cell_type": "code",
   "execution_count": 20,
   "id": "673b0c5b",
   "metadata": {},
   "outputs": [],
   "source": [
    "input_batch = img.reshape(1,200,200,3)"
   ]
  },
  {
   "cell_type": "code",
   "execution_count": 21,
   "id": "2c79b41d",
   "metadata": {},
   "outputs": [],
   "source": [
    "i = 0\n",
    "for output in datagen.flow(input_batch,batch_size=1,save_to_dir='./vrajesh'):\n",
    "    i = i+1\n",
    "    if i==1000:\n",
    "        break"
   ]
  },
  {
   "cell_type": "code",
   "execution_count": null,
   "id": "6e36c716",
   "metadata": {},
   "outputs": [],
   "source": []
  }
 ],
 "metadata": {
  "kernelspec": {
   "display_name": "Python 3",
   "language": "python",
   "name": "python3"
  },
  "language_info": {
   "codemirror_mode": {
    "name": "ipython",
    "version": 3
   },
   "file_extension": ".py",
   "mimetype": "text/x-python",
   "name": "python",
   "nbconvert_exporter": "python",
   "pygments_lexer": "ipython3",
   "version": "3.13.3"
  }
 },
 "nbformat": 4,
 "nbformat_minor": 5
}
